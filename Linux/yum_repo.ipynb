{
 "cells": [
  {
   "cell_type": "markdown",
   "metadata": {},
   "source": [
    "### cd /etc/yum.repos.d 레포지토리 주소 설정\n",
    "\n",
    "```sh\n",
    "[base]\n",
    "name=CentOS-$releasever - Base\n",
    "#mirrorlist=http://mirrorlist.centos.org/?release=$releasever&arch=$basearch&repo=os&infra=$infra\n",
    "baseurl=http://vault.centos.org/7.9.2009/os/$basearch/\n",
    "gpgcheck=1\n",
    "gpgkey=file:///etc/pki/rpm-gpg/RPM-GPG-KEY-CentOS-7\n",
    "\n",
    "[updates]\n",
    "name=CentOS-$releasever - Updates\n",
    "#mirrorlist=http://mirrorlist.centos.org/?release=$releasever&arch=$basearch&repo=updates&infra=$infra\n",
    "baseurl=http://vault.centos.org/7.9.2009/updates/$basearch/\n",
    "gpgcheck=1\n",
    "gpgkey=file:///etc/pki/rpm-gpg/RPM-GPG-KEY-CentOS-7\n",
    "\n",
    "[extras]\n",
    "name=CentOS-$releasever - Extras\n",
    "#mirrorlist=http://mirrorlist.centos.org/?release=$releasever&arch=$basearch&repo=extras&infra=$infra\n",
    "baseurl=http://vault.centos.org/7.9.2009/extras/$basearch/\n",
    "gpgcheck=1\n",
    "gpgkey=file:///etc/pki/rpm-gpg/RPM-GPG-KEY-CentOS-7\n",
    "\n",
    "[centosplus]\n",
    "name=CentOS-$releasever - Plus\n",
    "#mirrorlist=http://mirrorlist.centos.org/?release=$releasever&arch=$basearch&repo=centosplus&infra=$infra\n",
    "baseurl=http://vault.centos.org/7.9.2009/centosplus/$basearch/\n",
    "gpgcheck=1\n",
    "enabled=0\n",
    "gpgkey=file:///etc/pki/rpm-gpg/RPM-GPG-KEY-CentOS-7\n",
    "```"
   ]
  },
  {
   "cell_type": "markdown",
   "metadata": {},
   "source": [
    "### yum 캐시 지우고 다시 설치\n",
    "\n",
    "```sh\n",
    "yum clean all\n",
    "yum install epel-release\n",
    "yum makecache\n",
    "yum update\n",
    "```"
   ]
  },
  {
   "cell_type": "markdown",
   "metadata": {},
   "source": []
  },
  {
   "cell_type": "markdown",
   "metadata": {},
   "source": []
  },
  {
   "cell_type": "markdown",
   "metadata": {},
   "source": []
  }
 ],
 "metadata": {
  "language_info": {
   "name": "python"
  }
 },
 "nbformat": 4,
 "nbformat_minor": 2
}
