{
 "cells": [
  {
   "cell_type": "markdown",
   "metadata": {},
   "source": [
    "### 일단 줄바꿈은 한줄이상 같다\n",
    "\n",
    "`>` 인용구\n",
    "\n",
    ">하이 인용구\n",
    "\n",
    "`$$` 수식\n",
    "\n",
    "$x+y=10$\n",
    "\n",
    "`()` `[]` 링크\n",
    "\n",
    "\n",
    "```python\n",
    "print('make_code')\n",
    "```\n",
    "\n",
    "`1.` 숫자로 리스트 만들기\n",
    "`-` 로 항목만듦, 들여쓰기를 쓰면 하위 항목도 가능\n",
    "\n",
    "\n",
    "-\n",
    "  -\n",
    "  -\n",
    "    -\n",
    "    - 이런식\n",
    "      \n",
    "      -\n"
   ]
  },
  {
   "cell_type": "markdown",
   "metadata": {},
   "source": []
  }
 ],
 "metadata": {
  "language_info": {
   "name": "python"
  }
 },
 "nbformat": 4,
 "nbformat_minor": 2
}
