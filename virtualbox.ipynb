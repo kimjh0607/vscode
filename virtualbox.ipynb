{
 "cells": [
  {
   "cell_type": "markdown",
   "metadata": {},
   "source": [
    "## virtual box setting"
   ]
  },
  {
   "cell_type": "markdown",
   "metadata": {},
   "source": [
    "1. ```sh vi /etc/sysconfig/network-scripts/ifcfg-enp0s3``` -> onboot=yes\n",
    "2. ```sh ystemctl restart network``` - ip addr로 확인\n",
    "3. tool로 접속 (systemctl stop firewalld)\n",
    "4. yum repo 교체 (`CentOS-Base.repo`)\n",
    "5. `yum clean all` - `yum install epel-release` - `yum makecache` - `yum update`\n",
    "6. `yum install net-tools wget` 등\n"
   ]
  },
  {
   "cell_type": "markdown",
   "metadata": {},
   "source": [
    "---"
   ]
  },
  {
   "cell_type": "markdown",
   "metadata": {},
   "source": [
    "## 네트워크 설정\n",
    "\n",
    "```sh\n",
    "\n",
    "TYPE=Ethernet\n",
    "BOOTPROTO=static\n",
    "NAME=enp0s8\n",
    "DEVICE=enp0s8\n",
    "ONBOOT=yes\n",
    "IPADDR=192.168.56.103\n",
    "NETMASK=255.255.255.0\n",
    "\n",
    "```"
   ]
  },
  {
   "cell_type": "markdown",
   "metadata": {},
   "source": [
    "---"
   ]
  },
  {
   "cell_type": "markdown",
   "metadata": {},
   "source": [
    "## yum repo 설정\n",
    "```sh\n",
    "[base]\n",
    "name=CentOS-$releasever - Base\n",
    "#mirrorlist=http://mirrorlist.centos.org/?release=$releasever&arch=$basearch&repo=os&infra=$infra\n",
    "baseurl=http://vault.centos.org/7.9.2009/os/$basearch/\n",
    "gpgcheck=1\n",
    "gpgkey=file:///etc/pki/rpm-gpg/RPM-GPG-KEY-CentOS-7\n",
    "\n",
    "[updates]\n",
    "name=CentOS-$releasever - Updates\n",
    "#mirrorlist=http://mirrorlist.centos.org/?release=$releasever&arch=$basearch&repo=updates&infra=$infra\n",
    "baseurl=http://vault.centos.org/7.9.2009/updates/$basearch/\n",
    "gpgcheck=1\n",
    "gpgkey=file:///etc/pki/rpm-gpg/RPM-GPG-KEY-CentOS-7\n",
    "\n",
    "[extras]\n",
    "name=CentOS-$releasever - Extras\n",
    "#mirrorlist=http://mirrorlist.centos.org/?release=$releasever&arch=$basearch&repo=extras&infra=$infra\n",
    "baseurl=http://vault.centos.org/7.9.2009/extras/$basearch/\n",
    "gpgcheck=1\n",
    "gpgkey=file:///etc/pki/rpm-gpg/RPM-GPG-KEY-CentOS-7\n",
    "\n",
    "[centosplus]\n",
    "name=CentOS-$releasever - Plus\n",
    "#mirrorlist=http://mirrorlist.centos.org/?release=$releasever&arch=$basearch&repo=centosplus&infra=$infra\n",
    "baseurl=http://vault.centos.org/7.9.2009/centosplus/$basearch/\n",
    "gpgcheck=1\n",
    "enabled=0\n",
    "gpgkey=file:///etc/pki/rpm-gpg/RPM-GPG-KEY-CentOS-7\n",
    "```"
   ]
  },
  {
   "cell_type": "markdown",
   "metadata": {},
   "source": []
  },
  {
   "cell_type": "markdown",
   "metadata": {},
   "source": []
  },
  {
   "cell_type": "markdown",
   "metadata": {},
   "source": []
  }
 ],
 "metadata": {
  "language_info": {
   "name": "python"
  }
 },
 "nbformat": 4,
 "nbformat_minor": 2
}
