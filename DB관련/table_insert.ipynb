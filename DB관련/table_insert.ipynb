{
 "cells": [
  {
   "cell_type": "markdown",
   "metadata": {},
   "source": [
    "```sql\n",
    "create table dba(\n",
    "  id int,\n",
    "  name varchar(50),\n",
    "  jumin varchar(50)\n",
    ");\n",
    "\n",
    "insert into dba values (1, 'lee', '298234-1345793');\n",
    "insert into dba values (2, 'kim', '892323-2938742');\n",
    "insert into dba values (3, 'park', '120849-2938743');\n",
    "\n",
    "create table emp(\n",
    "  id int,\n",
    "  name varchar(50),\n",
    "  jumin varchar(50)\n",
    ");\n",
    "\n",
    "insert into emp values (1, 'lee', '298234-1345793');\n",
    "insert into emp values (2, 'kim', '892323-2938742');\n",
    "insert into emp values (3, 'park', '120849-2938743');\n",
    "\n",
    "create table stu(\n",
    "  id int,\n",
    "  name varchar(50),\n",
    "  jumin varchar(50)\n",
    ");\n",
    "\n",
    "insert into stu values (1, 'lee', '298234-1345793');\n",
    "insert into stu values (2, 'kim', '892323-2938742');\n",
    "insert into stu values (3, 'park', '120849-2938743');\n",
    "```"
   ]
  },
  {
   "cell_type": "markdown",
   "metadata": {},
   "source": []
  },
  {
   "cell_type": "markdown",
   "metadata": {},
   "source": []
  },
  {
   "cell_type": "markdown",
   "metadata": {},
   "source": []
  },
  {
   "cell_type": "markdown",
   "metadata": {},
   "source": []
  }
 ],
 "metadata": {
  "language_info": {
   "name": "python"
  }
 },
 "nbformat": 4,
 "nbformat_minor": 2
}
