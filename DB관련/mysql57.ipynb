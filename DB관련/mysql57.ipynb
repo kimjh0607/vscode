{
 "cells": [
  {
   "cell_type": "markdown",
   "metadata": {},
   "source": [
    "```sh\n",
    "yum -y install yum-utils\n",
    "\n",
    "yum -y install https://dev.mysql.com/get/mysql80-community-release-el7-10.noarch.rpm\n",
    "yum -y install https://dev.mysql.com/get/mysql57-community-release-el7-10.noarch.rpm - 5.7 버전\n",
    "wget https://downloads.mysql.com/archives/get/p/23/file/mysql-8.0.17-1.el7.x86_64.rpm-bundle.tar - 8.0.17버전\n",
    "\n",
    "yum repolist all | grep mysql\n",
    "\n",
    "yum-config-manager --disable mysql80-community\n",
    "\n",
    "yum-config-manager --enable mysql57-community\n",
    "\n",
    "yum list all --showduplicates | grep mysql-community-server\n",
    "\n",
    "yum -y install mysql-community-server\n",
    "\n",
    "grep 'temporary password' /var/log/mysqld.log\n",
    "\n",
    "```"
   ]
  },
  {
   "cell_type": "markdown",
   "metadata": {},
   "source": [
    "---"
   ]
  },
  {
   "cell_type": "markdown",
   "metadata": {},
   "source": [
    "\n",
    "### **특정 버전의 MySQL 5.7을 설치**\n",
    "\n",
    "1. **MySQL 5.7 저장소 활성화**:\n",
    "   이미 수행한 단계입니다. MySQL 5.7 저장소를 활성화하여 MySQL 5.7 패키지를 사용할 수 있도록 합니다.\n",
    "\n",
    "   ```bash\n",
    "   yum-config-manager --disable mysql80-community\n",
    "   yum-config-manager --enable mysql57-community\n",
    "   ```\n",
    "\n",
    "2. ### **사용 가능한 MySQL 5.7 패키지 목록 확인**:\n",
    "   특정 버전을 설치하려면, 먼저 사용할 수 있는 MySQL 5.7 패키지 목록을 확인해야 합니다.\n",
    "\n",
    "   ```bash\n",
    "   yum list all --showduplicates | grep mysql-community-server\n",
    "   ```\n",
    "\n",
    "   이 명령어는 `mysql-community-server` 패키지의 모든 사용 가능한 버전을 표시합니다. 여기서 원하는 버전의 정확한 버전 번호를 확인할 수 있습니다.\n",
    "\n",
    "3. **특정 버전 설치**:\n",
    "   확인한 버전 중에서 원하는 버전을 선택하고, `yum install` 명령어를 사용하여 해당 버전을 설치합니다. 예를 들어, MySQL 5.7.20 버전을 설치하려면:\n",
    "\n",
    "   ```bash\n",
    "   sudo yum install mysql-community-server-5.7.10-1.el7\n",
    "   ```\n",
    "\n",
    "   `yum`은 지정된 버전의 MySQL 서버를 설치하게 됩니다.\n",
    "\n",
    "### **요약**\n",
    "- **목록 확인**: `yum list all --showduplicates` 명령어로 특정 버전을 확인합니다.\n",
    "- **특정 버전 설치**: `yum install mysql-community-server-버전명`으로 원하는 버전을 설치합니다.\n",
    "\n",
    "이렇게 하면 MySQL 5.7 버전 중에서 특정 버전을 선택하여 설치할 수 있습니다."
   ]
  },
  {
   "cell_type": "markdown",
   "metadata": {},
   "source": [
    "---"
   ]
  },
  {
   "cell_type": "markdown",
   "metadata": {},
   "source": [
    "## 8.0.17 버전"
   ]
  },
  {
   "cell_type": "markdown",
   "metadata": {},
   "source": [
    "\n",
    "```sh\n",
    "#관련파일 지우기\n",
    "yum -y install wget yum-utils net-tools libaio libaio-devel perl perl-Getopt-Long\n",
    "yum remove $(rpm -qa | grep mysql)\n",
    "rm -rf /etc/my.cnf /etc/mysql/ /var/lib/mysql/ /var/log/mysql* /usr/lib64/mysql/ /var/log/mysqld.log\n",
    "yum remove mariadb-libs - 기존 라이브러리 제거(안하면 충돌남)\n",
    "\n",
    "wget https://downloads.mysql.com/archives/get/p/23/file/mysql-8.0.17-1.el7.x86_64.rpm-bundle.tar\n",
    "tar -xvf mysql-8.0.17-1.el7.x86_64.rpm-bundle.tar\n",
    "# wget https://downloads.mysql.com/archives/get/p/23/file/mysql-community-server-8.0.17-1.el7.x86_64.rpm\n",
    "\n",
    "# yum -y install libaio libaio-devel perl perl-Getopt-Long\n",
    "\n",
    "# rpm --import https://repo.mysql.com/RPM-GPG-KEY-mysql-2022\n",
    "# sudo yum localinstall mysql-community-server-8.0.17-1.el7.x86_64.rpm\n",
    "\n",
    "rpm -ivh mysql-community-common-8.0.17-1.el7.x86_64.rpm\n",
    "yum remove mariadb-libs\n",
    "rpm -ivh mysql-community-libs-8.0.17-1.el7.x86_64.rpm\n",
    "rpm -ivh mysql-community-client-8.0.17-1.el7.x86_64.rpm\n",
    "rpm -ivh mysql-community-server-8.0.17-1.el7.x86_64.rpm\n",
    "\n",
    "systemctl start mysqld\n",
    "grep 'temporary password' /var/log/mysqld.log\n",
    "\n",
    "```"
   ]
  },
  {
   "cell_type": "markdown",
   "metadata": {},
   "source": [
    "---"
   ]
  },
  {
   "cell_type": "markdown",
   "metadata": {},
   "source": [
    "이전에 동일한 절차를 시도했음에도 불구하고 문제가 지속된다면, MySQL 8.0 패키지와 MySQL 5.7 패키지 간의 충돌이 여전히 남아있을 가능성이 있습니다. 이런 경우, 더 깊이 있는 해결 방법이 필요할 수 있습니다. 다음과 같은 추가적인 조치를 고려해볼 수 있습니다.\n",
    "\n",
    "### 1. **남아있는 MySQL 8.0 패키지 확인 및 제거**\n",
    "\n",
    "이전에 설치된 MySQL 8.0 관련 패키지가 남아있을 수 있으므로, 이를 확인하고 제거해야 합니다.\n",
    "\n",
    "1. **MySQL 관련 패키지 목록 확인**:\n",
    "   ```bash\n",
    "   rpm -qa | grep mysql\n",
    "   ```\n",
    "\n",
    "   이 명령어로 현재 시스템에 설치된 모든 MySQL 관련 패키지를 확인합니다. MySQL 8.0 버전의 패키지가 남아있는지 확인하세요.\n",
    "\n",
    "2. **MySQL 8.0 패키지 강제 제거**:\n",
    "   필요한 경우, 특정 MySQL 8.0 패키지를 강제로 제거할 수 있습니다. 예를 들어, `mysql-community-client-plugins` 패키지가 남아 있다면:\n",
    "\n",
    "   ```bash\n",
    "   sudo rpm -e --nodeps mysql-community-client-plugins\n",
    "   ```\n",
    "\n",
    "   `--nodeps` 옵션을 사용하여 의존성 문제 없이 패키지를 강제로 제거할 수 있습니다.\n",
    "\n",
    "### 2. **MySQL 5.7 패키지 설치 시 충돌 방지**\n",
    "\n",
    "MySQL 5.7 패키지를 설치할 때, 충돌을 방지하기 위해 `--skip-broken` 옵션을 사용할 수 있습니다. 이 옵션은 패키지 충돌 문제를 우회하여 설치를 시도할 수 있습니다.\n",
    "\n",
    "```bash\n",
    "sudo yum install mysql-community-server-5.7.10-1.el7.x86_64 --skip-broken\n",
    "```\n",
    "\n",
    "이 방법이 모든 문제를 해결하지는 않지만, 특정 상황에서는 충돌을 우회할 수 있습니다.\n",
    "\n",
    "### 3. **의존성 강제 해결**\n",
    "\n",
    "충돌 문제를 해결하기 위해 `yum`의 `--setopt=protected_multilib=false` 옵션을 사용할 수도 있습니다. 이 옵션은 다중 라이브러리 간의 충돌 문제를 해결할 때 유용할 수 있습니다.\n",
    "\n",
    "```bash\n",
    "sudo yum install mysql-community-server-5.7.10-1.el7.x86_64 --setopt=protected_multilib=false\n",
    "```\n",
    "\n",
    "### 4. **재설치 또는 클린 설치 고려**\n",
    "\n",
    "이 방법들이 효과가 없을 경우, MySQL과 관련된 모든 패키지를 완전히 제거한 후 다시 설치하는 방법도 고려할 수 있습니다.\n",
    "\n",
    "1. **모든 MySQL 관련 패키지 제거**:\n",
    "   ```bash\n",
    "   sudo yum remove mysql*\n",
    "   ```\n",
    "\n",
    "2. **시스템 클린업**:\n",
    "   잔여 설정 파일이나 캐시를 정리합니다.\n",
    "   ```bash\n",
    "   sudo rm -rf /var/lib/mysql\n",
    "   sudo rm -rf /etc/my.cnf\n",
    "   ```\n",
    "\n",
    "3. **MySQL 5.7 재설치**:\n",
    "   MySQL 5.7을 다시 설치합니다.\n",
    "   ```bash\n",
    "   sudo yum install mysql-community-server\n",
    "   ```\n",
    "\n",
    "### 결론\n",
    "\n",
    "문제가 계속된다면, MySQL 8.0 관련 패키지와 MySQL 5.7 패키지 간의 충돌이 완전히 해결되지 않은 상태일 수 있습니다. 위에서 제시한 추가적인 방법들을 시도하여 충돌 문제를 해결하고 MySQL 5.7을 성공적으로 설치해 보시기 바랍니다. 특히 강제 제거 및 클린 설치 방법이 도움이 될 수 있습니다.\n",
    "m"
   ]
  },
  {
   "cell_type": "markdown",
   "metadata": {},
   "source": []
  },
  {
   "cell_type": "markdown",
   "metadata": {},
   "source": []
  },
  {
   "cell_type": "markdown",
   "metadata": {},
   "source": []
  },
  {
   "cell_type": "markdown",
   "metadata": {},
   "source": []
  }
 ],
 "metadata": {
  "language_info": {
   "name": "python"
  }
 },
 "nbformat": 4,
 "nbformat_minor": 2
}
