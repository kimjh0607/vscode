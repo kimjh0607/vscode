{
 "cells": [
  {
   "cell_type": "markdown",
   "metadata": {},
   "source": [
    "## docker"
   ]
  },
  {
   "cell_type": "markdown",
   "metadata": {},
   "source": [
    "```sh\n",
    "#Docker 이미지 다운로드: \n",
    "docker pull <image>\n",
    "#컨테이너 생성 및 실행: \n",
    "docker run -d --name <container> -p 5432:5432 -e POSTGRES_PASSWORD=mysecretpassword <image>\n",
    "#컨테이너 상태 확인: \n",
    "docker ps -a\n",
    "#컨테이너 내부 접속: \n",
    "docker exec -it <image> /bin/bash\n",
    "# Docker file이용 컨테이너 빌드\n",
    "vim dockerfile\n",
    "   # PostgreSQL 10 버전을 기반으로 하는 이미지\n",
    "   FROM postgres:10\n",
    "   \n",
    "   # 패키지 목록 업데이트 후 vim 설치\n",
    "   RUN apt-get update && apt-get install -y vim\n",
    "   \n",
    "   # 환경 변수 설정 (필요 시)\n",
    "   ENV PATH=\"/usr/local/bin:${PATH}\"\n",
    "   \n",
    "   # 추가 작업 (필요 시)\n",
    "   # RUN your_additional_commands_here\n",
    "docker build -t <custom_image>\n",
    "\n",
    "```"
   ]
  },
  {
   "cell_type": "markdown",
   "metadata": {},
   "source": []
  },
  {
   "cell_type": "markdown",
   "metadata": {},
   "source": []
  },
  {
   "cell_type": "markdown",
   "metadata": {},
   "source": []
  }
 ],
 "metadata": {
  "language_info": {
   "name": "python"
  }
 },
 "nbformat": 4,
 "nbformat_minor": 2
}
