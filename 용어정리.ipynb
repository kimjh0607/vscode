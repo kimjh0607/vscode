{
 "cells": [
  {
   "cell_type": "markdown",
   "metadata": {},
   "source": [
    "- 오버헤드(Overhead) : 시스템 성능에 영향을 미치는 추가적인 작업이나 비용을 의미합니다.\n",
    "- 동시성 : 여러 사용자나 프로세스가 동시에 데이터베이스에 접근하고 작업할 수 있는 능력을 말함. 높은 동시성은 많은 사용자가 동시에 디비를 사용해도 성능저하가 적다는 의미.\n",
    "- 행 레벨 잠금 : 데이터를 수정할 떄,해당 데이터가 있는 row만 잠그는 방식. 이는 다른 사용자가 같은 테이블의 다른 행을 동시에 수정할 수 있게 해주므로 동시성을 높임.\n",
    "- ACID : 디비 트랜잭션이 안전하게 수행된다는 것을 보장하는 성질을 나타내는 약어 Atomicity, Consistency, Isolation, Durability\n",
    "- DB에서의 읽기 : 조회 > 쿠팡에서 상품목록을 보는 것\n",
    "- DB에서의 쓰기 : 추가, 수정, 삭제 > SNS나 주식실시간거래시스템 같이 데이터가 빈번하게 변경되는 환경처럼\n",
    "- HA : 고 가용성 > 이중화, 재해복구(DR구성(Disaster Recovery)) 등을 의미\n",
    "\n"
   ]
  }
 ],
 "metadata": {
  "language_info": {
   "name": "python"
  }
 },
 "nbformat": 4,
 "nbformat_minor": 2
}
